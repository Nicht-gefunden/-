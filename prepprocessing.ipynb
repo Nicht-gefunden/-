{
  "nbformat": 4,
  "nbformat_minor": 0,
  "metadata": {
    "colab": {
      "name": "prepprocessing.ipynb",
      "provenance": [],
      "include_colab_link": true
    },
    "kernelspec": {
      "name": "python3",
      "display_name": "Python 3"
    }
  },
  "cells": [
    {
      "cell_type": "markdown",
      "metadata": {
        "id": "view-in-github",
        "colab_type": "text"
      },
      "source": [
        "<a href=\"https://colab.research.google.com/github/Nicht-gefunden/-/blob/master/prepprocessing.ipynb\" target=\"_parent\"><img src=\"https://colab.research.google.com/assets/colab-badge.svg\" alt=\"Open In Colab\"/></a>"
      ]
    },
    {
      "cell_type": "code",
      "metadata": {
        "id": "r4rSPXjI59Vy",
        "colab_type": "code",
        "colab": {
          "base_uri": "https://localhost:8080/",
          "height": 110
        },
        "outputId": "66f2edbd-942c-4857-b5c8-5f2b49a185f6"
      },
      "source": [
        "import pandas as pd \n",
        "import nltk\n",
        "from nltk.corpus import stopwords\n",
        "#import Tokenizer\n",
        "from nltk.tokenize import RegexpTokenizer\n",
        "#Import Lemmatizer\n",
        "from nltk.stem import WordNetLemmatizer\n",
        "# Import Stemmer\n",
        "from nltk.stem.porter import PorterStemmer\n",
        "nltk.download('words')\n",
        "pd.set_option('max_colwidth', -1)"
      ],
      "execution_count": 2,
      "outputs": [
        {
          "output_type": "stream",
          "text": [
            "[nltk_data] Downloading package words to /root/nltk_data...\n",
            "[nltk_data]   Unzipping corpora/words.zip.\n"
          ],
          "name": "stdout"
        },
        {
          "output_type": "stream",
          "text": [
            "/usr/local/lib/python3.6/dist-packages/ipykernel_launcher.py:11: FutureWarning: Passing a negative integer is deprecated in version 1.0 and will not be supported in future version. Instead, use None to not limit the column width.\n",
            "  # This is added back by InteractiveShellApp.init_path()\n"
          ],
          "name": "stderr"
        }
      ]
    },
    {
      "cell_type": "code",
      "metadata": {
        "id": "THp-eXDC6ArC",
        "colab_type": "code",
        "colab": {
          "base_uri": "https://localhost:8080/",
          "height": 354
        },
        "outputId": "e6e5c59e-55d6-4bd8-9614-0b6894d015a7"
      },
      "source": [
        "df = pd.read_csv('https://github.com/tmu-nlp/sscorpus/blob/master/sscorpus.gz?raw=true', compression='gzip', sep='\\t',header = None,error_bad_lines=False)\n",
        "df.columns = ['Target Sentence', 'Source Sentence','Score']\n",
        "df.head(5)"
      ],
      "execution_count": 4,
      "outputs": [
        {
          "output_type": "execute_result",
          "data": {
            "text/html": [
              "<div>\n",
              "<style scoped>\n",
              "    .dataframe tbody tr th:only-of-type {\n",
              "        vertical-align: middle;\n",
              "    }\n",
              "\n",
              "    .dataframe tbody tr th {\n",
              "        vertical-align: top;\n",
              "    }\n",
              "\n",
              "    .dataframe thead th {\n",
              "        text-align: right;\n",
              "    }\n",
              "</style>\n",
              "<table border=\"1\" class=\"dataframe\">\n",
              "  <thead>\n",
              "    <tr style=\"text-align: right;\">\n",
              "      <th></th>\n",
              "      <th>Target Sentence</th>\n",
              "      <th>Source Sentence</th>\n",
              "      <th>Score</th>\n",
              "    </tr>\n",
              "  </thead>\n",
              "  <tbody>\n",
              "    <tr>\n",
              "      <th>0</th>\n",
              "      <td>Following the revolution , he organized the first election process in Egyptian universities to choose his successor as Dean of the Faculty in March 2011 , as he left the country on 15 May 2011 in the capacity of cultural counselor at the Egyptian Embassy to Berlin and head of the educational mission there .</td>\n",
              "      <td>Following the revolution he organized the first election process in Egyptian universities to choose his successor as Dean of the Faculty in March 2011 , as he left the country on 15.05.2011 in the capacity of cultural counselor at the Egyptian Embassy to Berlin and head of educational mission there .</td>\n",
              "      <td>0.999061</td>\n",
              "    </tr>\n",
              "    <tr>\n",
              "      <th>1</th>\n",
              "      <td>Other nearby towns include Haywards Heath to the north east and Lewes , the county town of East Sussex , to the south east .</td>\n",
              "      <td>Other nearby towns include Haywards Heath to the north and Lewes , the county town of East Sussex , to the east .</td>\n",
              "      <td>0.998915</td>\n",
              "    </tr>\n",
              "    <tr>\n",
              "      <th>2</th>\n",
              "      <td>The project comprised Mei Foo Interchange ( modification of the existing Mei Foo station on the Tsuen Wan Line to provide a pedestrian link to the West Rail Line Mei Foo Station ) ; Nam Cheong Station ( an interchange station on the Tung Chung Line , jointly operated by the MTRCL and KCRC ) and quadruplication works ( the additional two tracks , in length , allow the Tung Chung Line trains to stop at Nam Cheong without obstructing the passage of Airport Express trains ) .</td>\n",
              "      <td>The project comprised Mei Foo Interchange ( modification of the existing Mei Foo station on the Tsuen Wan Line to provide a pedestrian link to the West Rail Line Mei Foo Station ) ; Nam Cheong Station ( an interchange station on the Tung Chung Line , jointly operated by the MTRCL and KCRC ) and quadruplication works ( the additional two tracks , four kilometres in length , allow the Tung Chung Line trains to stop at Nam Cheong without obstructing the passage of Airport Express trains ) .</td>\n",
              "      <td>0.998909</td>\n",
              "    </tr>\n",
              "    <tr>\n",
              "      <th>3</th>\n",
              "      <td>Pepsi encouraged price-watching consumers to switch , obliquely referring to the Coca-Cola standard of 6.5 ounces per bottle for the price of five cents ( a nickel ) , instead of the 12 ounces Pepsi sold at the same price .</td>\n",
              "      <td>Pepsi encouraged price-watching consumers to switch , obliquely referring to the Coca-Cola standard of six ounces per bottle for the price of five cents ( a nickel ) , instead of the 12 ounces Pepsi sold at the same price .</td>\n",
              "      <td>0.998829</td>\n",
              "    </tr>\n",
              "    <tr>\n",
              "      <th>4</th>\n",
              "      <td>In Britain , musical comedian Mitch Benn has performed four songs about Knut for BBC Radio 4 satirical series `` The Now Show '' : `` The Baby Bear Must DIE !</td>\n",
              "      <td>In Britain , musical comedian Mitch Benn has performed three songs about Knut for BBC Radio 4 satirical series `` The Now Show '' : `` The Baby Bear Must DIE !</td>\n",
              "      <td>0.998814</td>\n",
              "    </tr>\n",
              "  </tbody>\n",
              "</table>\n",
              "</div>"
            ],
            "text/plain": [
              "                                                                                                                                                                                                                                                                                                                                                                                                                                                                                Target Sentence  ...     Score\n",
              "0  Following the revolution , he organized the first election process in Egyptian universities to choose his successor as Dean of the Faculty in March 2011 , as he left the country on 15 May 2011 in the capacity of cultural counselor at the Egyptian Embassy to Berlin and head of the educational mission there .                                                                                                                                                                          ...  0.999061\n",
              "1  Other nearby towns include Haywards Heath to the north east and Lewes , the county town of East Sussex , to the south east .                                                                                                                                                                                                                                                                                                                                                                  ...  0.998915\n",
              "2  The project comprised Mei Foo Interchange ( modification of the existing Mei Foo station on the Tsuen Wan Line to provide a pedestrian link to the West Rail Line Mei Foo Station ) ; Nam Cheong Station ( an interchange station on the Tung Chung Line , jointly operated by the MTRCL and KCRC ) and quadruplication works ( the additional two tracks , in length , allow the Tung Chung Line trains to stop at Nam Cheong without obstructing the passage of Airport Express trains ) .  ...  0.998909\n",
              "3  Pepsi encouraged price-watching consumers to switch , obliquely referring to the Coca-Cola standard of 6.5 ounces per bottle for the price of five cents ( a nickel ) , instead of the 12 ounces Pepsi sold at the same price .                                                                                                                                                                                                                                                               ...  0.998829\n",
              "4  In Britain , musical comedian Mitch Benn has performed four songs about Knut for BBC Radio 4 satirical series `` The Now Show '' : `` The Baby Bear Must DIE !                                                                                                                                                                                                                                                                                                                                ...  0.998814\n",
              "\n",
              "[5 rows x 3 columns]"
            ]
          },
          "metadata": {
            "tags": []
          },
          "execution_count": 4
        }
      ]
    },
    {
      "cell_type": "code",
      "metadata": {
        "id": "VCrgOFfT0QTe",
        "colab_type": "code",
        "colab": {
          "base_uri": "https://localhost:8080/",
          "height": 35
        },
        "outputId": "26076ccb-36e2-4cf5-ca7e-6eeb2337ce4d"
      },
      "source": [
        "df.shape"
      ],
      "execution_count": null,
      "outputs": [
        {
          "output_type": "execute_result",
          "data": {
            "text/plain": [
              "(492993, 3)"
            ]
          },
          "metadata": {
            "tags": []
          },
          "execution_count": 88
        }
      ]
    },
    {
      "cell_type": "code",
      "metadata": {
        "id": "YlivA7u00YiA",
        "colab_type": "code",
        "colab": {
          "base_uri": "https://localhost:8080/",
          "height": 250
        },
        "outputId": "9b048dd9-bbdd-4817-b4f4-c97ce3f526d5"
      },
      "source": [
        "df.tail(5)"
      ],
      "execution_count": 5,
      "outputs": [
        {
          "output_type": "execute_result",
          "data": {
            "text/html": [
              "<div>\n",
              "<style scoped>\n",
              "    .dataframe tbody tr th:only-of-type {\n",
              "        vertical-align: middle;\n",
              "    }\n",
              "\n",
              "    .dataframe tbody tr th {\n",
              "        vertical-align: top;\n",
              "    }\n",
              "\n",
              "    .dataframe thead th {\n",
              "        text-align: right;\n",
              "    }\n",
              "</style>\n",
              "<table border=\"1\" class=\"dataframe\">\n",
              "  <thead>\n",
              "    <tr style=\"text-align: right;\">\n",
              "      <th></th>\n",
              "      <th>Target Sentence</th>\n",
              "      <th>Source Sentence</th>\n",
              "      <th>Score</th>\n",
              "    </tr>\n",
              "  </thead>\n",
              "  <tbody>\n",
              "    <tr>\n",
              "      <th>492988</th>\n",
              "      <td>He was elected to Rajya Sabha in 1996 .</td>\n",
              "      <td>He was a member of the Bharatiya Janata Party ( BJP ) .</td>\n",
              "      <td>0.533828</td>\n",
              "    </tr>\n",
              "    <tr>\n",
              "      <th>492989</th>\n",
              "      <td>The expression is not a polynomial because it includes division by a non-constant polynomial .</td>\n",
              "      <td>A polynomial is an easy-to-use algebraic expression .</td>\n",
              "      <td>0.533828</td>\n",
              "    </tr>\n",
              "    <tr>\n",
              "      <th>492990</th>\n",
              "      <td>Ithaca is in the rural Finger Lakes region about northwest of New York City ; the nearest larger cities , Binghamton and Syracuse , are an hour 's drive away by car , Rochester and Scranton are two hours , Buffalo and Albany are three .</td>\n",
              "      <td>Ithaca is a city in upstate New York , America .</td>\n",
              "      <td>0.533828</td>\n",
              "    </tr>\n",
              "    <tr>\n",
              "      <th>492991</th>\n",
              "      <td>The number of domino tilings of a 2×2 checkerboard is 2 .</td>\n",
              "      <td>It is the number after 1 and the number before 3 .</td>\n",
              "      <td>0.533827</td>\n",
              "    </tr>\n",
              "    <tr>\n",
              "      <th>492992</th>\n",
              "      <td>Apple snails include species that are the biggest living freshwater snails on Earth .</td>\n",
              "      <td>They are one of the only species of snails that are not hermaphrodites .</td>\n",
              "      <td>0.533827</td>\n",
              "    </tr>\n",
              "  </tbody>\n",
              "</table>\n",
              "</div>"
            ],
            "text/plain": [
              "                                                                                                                                                                                                                                     Target Sentence  ...     Score\n",
              "492988  He was elected to Rajya Sabha in 1996 .                                                                                                                                                                                                       ...  0.533828\n",
              "492989  The expression is not a polynomial because it includes division by a non-constant polynomial .                                                                                                                                                ...  0.533828\n",
              "492990  Ithaca is in the rural Finger Lakes region about northwest of New York City ; the nearest larger cities , Binghamton and Syracuse , are an hour 's drive away by car , Rochester and Scranton are two hours , Buffalo and Albany are three .  ...  0.533828\n",
              "492991  The number of domino tilings of a 2×2 checkerboard is 2 .                                                                                                                                                                                     ...  0.533827\n",
              "492992  Apple snails include species that are the biggest living freshwater snails on Earth .                                                                                                                                                         ...  0.533827\n",
              "\n",
              "[5 rows x 3 columns]"
            ]
          },
          "metadata": {
            "tags": []
          },
          "execution_count": 5
        }
      ]
    },
    {
      "cell_type": "code",
      "metadata": {
        "id": "AKkXu89foBxQ",
        "colab_type": "code",
        "colab": {
          "base_uri": "https://localhost:8080/",
          "height": 35
        },
        "outputId": "8886535a-ceed-417b-8727-a5d756622f66"
      },
      "source": [
        "df_filtered = df[df['Score'] < 0.54]\n",
        "df_filtered.shape"
      ],
      "execution_count": 6,
      "outputs": [
        {
          "output_type": "execute_result",
          "data": {
            "text/plain": [
              "(23464, 3)"
            ]
          },
          "metadata": {
            "tags": []
          },
          "execution_count": 6
        }
      ]
    },
    {
      "cell_type": "code",
      "metadata": {
        "id": "DrWCloXsNZp-",
        "colab_type": "code",
        "colab": {
          "base_uri": "https://localhost:8080/",
          "height": 545
        },
        "outputId": "ddda4290-3ff4-40b8-97dd-a0fdbd9acb50"
      },
      "source": [
        "df_filtered"
      ],
      "execution_count": 7,
      "outputs": [
        {
          "output_type": "execute_result",
          "data": {
            "text/html": [
              "<div>\n",
              "<style scoped>\n",
              "    .dataframe tbody tr th:only-of-type {\n",
              "        vertical-align: middle;\n",
              "    }\n",
              "\n",
              "    .dataframe tbody tr th {\n",
              "        vertical-align: top;\n",
              "    }\n",
              "\n",
              "    .dataframe thead th {\n",
              "        text-align: right;\n",
              "    }\n",
              "</style>\n",
              "<table border=\"1\" class=\"dataframe\">\n",
              "  <thead>\n",
              "    <tr style=\"text-align: right;\">\n",
              "      <th></th>\n",
              "      <th>Target Sentence</th>\n",
              "      <th>Source Sentence</th>\n",
              "      <th>Score</th>\n",
              "    </tr>\n",
              "  </thead>\n",
              "  <tbody>\n",
              "    <tr>\n",
              "      <th>469529</th>\n",
              "      <td>The main road west is the A35 to Honiton in Devon which runs through the South East Dorset Conurbation and continues east as far as Southampton , albeit as a non-primary route .</td>\n",
              "      <td>It is the biggest town in Dorset .</td>\n",
              "      <td>0.540000</td>\n",
              "    </tr>\n",
              "    <tr>\n",
              "      <th>469530</th>\n",
              "      <td>In the California State Senate , Irvine is in .</td>\n",
              "      <td>Irvine ( ) is a city in Orange County , California , United States .</td>\n",
              "      <td>0.540000</td>\n",
              "    </tr>\n",
              "    <tr>\n",
              "      <th>469531</th>\n",
              "      <td>In the California State Legislature , Woodland is in , and .</td>\n",
              "      <td>Woodland is a city in Yolo County , California , United States .</td>\n",
              "      <td>0.540000</td>\n",
              "    </tr>\n",
              "    <tr>\n",
              "      <th>469532</th>\n",
              "      <td>In the California State Legislature , Whittier is in , and in .</td>\n",
              "      <td>Whittier is a city in Los Angeles County , California , USA .</td>\n",
              "      <td>0.540000</td>\n",
              "    </tr>\n",
              "    <tr>\n",
              "      <th>469533</th>\n",
              "      <td>In the California State Legislature , Sonoma is in , and in .</td>\n",
              "      <td>Sonoma is a historic city in Sonoma County , California , United States .</td>\n",
              "      <td>0.540000</td>\n",
              "    </tr>\n",
              "    <tr>\n",
              "      <th>...</th>\n",
              "      <td>...</td>\n",
              "      <td>...</td>\n",
              "      <td>...</td>\n",
              "    </tr>\n",
              "    <tr>\n",
              "      <th>492988</th>\n",
              "      <td>He was elected to Rajya Sabha in 1996 .</td>\n",
              "      <td>He was a member of the Bharatiya Janata Party ( BJP ) .</td>\n",
              "      <td>0.533828</td>\n",
              "    </tr>\n",
              "    <tr>\n",
              "      <th>492989</th>\n",
              "      <td>The expression is not a polynomial because it includes division by a non-constant polynomial .</td>\n",
              "      <td>A polynomial is an easy-to-use algebraic expression .</td>\n",
              "      <td>0.533828</td>\n",
              "    </tr>\n",
              "    <tr>\n",
              "      <th>492990</th>\n",
              "      <td>Ithaca is in the rural Finger Lakes region about northwest of New York City ; the nearest larger cities , Binghamton and Syracuse , are an hour 's drive away by car , Rochester and Scranton are two hours , Buffalo and Albany are three .</td>\n",
              "      <td>Ithaca is a city in upstate New York , America .</td>\n",
              "      <td>0.533828</td>\n",
              "    </tr>\n",
              "    <tr>\n",
              "      <th>492991</th>\n",
              "      <td>The number of domino tilings of a 2×2 checkerboard is 2 .</td>\n",
              "      <td>It is the number after 1 and the number before 3 .</td>\n",
              "      <td>0.533827</td>\n",
              "    </tr>\n",
              "    <tr>\n",
              "      <th>492992</th>\n",
              "      <td>Apple snails include species that are the biggest living freshwater snails on Earth .</td>\n",
              "      <td>They are one of the only species of snails that are not hermaphrodites .</td>\n",
              "      <td>0.533827</td>\n",
              "    </tr>\n",
              "  </tbody>\n",
              "</table>\n",
              "<p>23464 rows × 3 columns</p>\n",
              "</div>"
            ],
            "text/plain": [
              "                                                                                                                                                                                                                                     Target Sentence  ...     Score\n",
              "469529  The main road west is the A35 to Honiton in Devon which runs through the South East Dorset Conurbation and continues east as far as Southampton , albeit as a non-primary route .                                                             ...  0.540000\n",
              "469530  In the California State Senate , Irvine is in .                                                                                                                                                                                               ...  0.540000\n",
              "469531  In the California State Legislature , Woodland is in , and .                                                                                                                                                                                  ...  0.540000\n",
              "469532  In the California State Legislature , Whittier is in , and in .                                                                                                                                                                               ...  0.540000\n",
              "469533  In the California State Legislature , Sonoma is in , and in .                                                                                                                                                                                 ...  0.540000\n",
              "...                                                               ...                                                                                                                                                                                 ...       ...\n",
              "492988  He was elected to Rajya Sabha in 1996 .                                                                                                                                                                                                       ...  0.533828\n",
              "492989  The expression is not a polynomial because it includes division by a non-constant polynomial .                                                                                                                                                ...  0.533828\n",
              "492990  Ithaca is in the rural Finger Lakes region about northwest of New York City ; the nearest larger cities , Binghamton and Syracuse , are an hour 's drive away by car , Rochester and Scranton are two hours , Buffalo and Albany are three .  ...  0.533828\n",
              "492991  The number of domino tilings of a 2×2 checkerboard is 2 .                                                                                                                                                                                     ...  0.533827\n",
              "492992  Apple snails include species that are the biggest living freshwater snails on Earth .                                                                                                                                                         ...  0.533827\n",
              "\n",
              "[23464 rows x 3 columns]"
            ]
          },
          "metadata": {
            "tags": []
          },
          "execution_count": 7
        }
      ]
    },
    {
      "cell_type": "code",
      "metadata": {
        "id": "hXXHcTjyVZ3_",
        "colab_type": "code",
        "colab": {
          "base_uri": "https://localhost:8080/",
          "height": 74
        },
        "outputId": "051f063f-deed-4a02-ff85-763fffab6657"
      },
      "source": [
        ""
      ],
      "execution_count": null,
      "outputs": [
        {
          "output_type": "stream",
          "text": [
            "/usr/local/lib/python3.6/dist-packages/ipykernel_launcher.py:1: FutureWarning: Passing a negative integer is deprecated in version 1.0 and will not be supported in future version. Instead, use None to not limit the column width.\n",
            "  \"\"\"Entry point for launching an IPython kernel.\n"
          ],
          "name": "stderr"
        }
      ]
    },
    {
      "cell_type": "markdown",
      "metadata": {
        "id": "MZGR_9UNFDwk",
        "colab_type": "text"
      },
      "source": [
        "### Data Cleansing & Preprocessing\n",
        " \n"
      ]
    },
    {
      "cell_type": "code",
      "metadata": {
        "id": "OUhalFpPENiu",
        "colab_type": "code",
        "colab": {
          "base_uri": "https://localhost:8080/",
          "height": 255
        },
        "outputId": "f1c83977-8ec4-403c-b1e1-60997faeae86"
      },
      "source": [
        "dfcs54 = df_filtered['Target Sentence']\n",
        "dfcs54"
      ],
      "execution_count": 8,
      "outputs": [
        {
          "output_type": "execute_result",
          "data": {
            "text/plain": [
              "469529    The main road west is the A35 to Honiton in Devon which runs through the South East Dorset Conurbation and continues east as far as Southampton , albeit as a non-primary route .                                                           \n",
              "469530    In the California State Senate , Irvine is in .                                                                                                                                                                                             \n",
              "469531    In the California State Legislature , Woodland is in , and .                                                                                                                                                                                \n",
              "469532    In the California State Legislature , Whittier is in , and in .                                                                                                                                                                             \n",
              "469533    In the California State Legislature , Sonoma is in , and in .                                                                                                                                                                               \n",
              "                                      ...                                                                                                                                                                                                             \n",
              "492988    He was elected to Rajya Sabha in 1996 .                                                                                                                                                                                                     \n",
              "492989    The expression is not a polynomial because it includes division by a non-constant polynomial .                                                                                                                                              \n",
              "492990    Ithaca is in the rural Finger Lakes region about northwest of New York City ; the nearest larger cities , Binghamton and Syracuse , are an hour 's drive away by car , Rochester and Scranton are two hours , Buffalo and Albany are three .\n",
              "492991    The number of domino tilings of a 2×2 checkerboard is 2 .                                                                                                                                                                                   \n",
              "492992    Apple snails include species that are the biggest living freshwater snails on Earth .                                                                                                                                                       \n",
              "Name: Target Sentence, Length: 23464, dtype: object"
            ]
          },
          "metadata": {
            "tags": []
          },
          "execution_count": 8
        }
      ]
    },
    {
      "cell_type": "code",
      "metadata": {
        "id": "XHCZ6EfS1JNh",
        "colab_type": "code",
        "colab": {
          "base_uri": "https://localhost:8080/",
          "height": 235
        },
        "outputId": "afa8600b-42cc-425e-de3b-c454d68c5182"
      },
      "source": [
        "dfss54=df_filtered['Source Sentence']\n",
        "dfss54"
      ],
      "execution_count": 9,
      "outputs": [
        {
          "output_type": "execute_result",
          "data": {
            "text/plain": [
              "469529    It is the biggest town in Dorset .                                       \n",
              "469530    Irvine ( ) is a city in Orange County , California , United States .     \n",
              "469531    Woodland is a city in Yolo County , California , United States .         \n",
              "469532    Whittier is a city in Los Angeles County , California , USA .            \n",
              "469533    Sonoma is a historic city in Sonoma County , California , United States .\n",
              "                                            ...                                    \n",
              "492988    He was a member of the Bharatiya Janata Party ( BJP ) .                  \n",
              "492989    A polynomial is an easy-to-use algebraic expression .                    \n",
              "492990    Ithaca is a city in upstate New York , America .                         \n",
              "492991    It is the number after 1 and the number before 3 .                       \n",
              "492992    They are one of the only species of snails that are not hermaphrodites . \n",
              "Name: Source Sentence, Length: 23464, dtype: object"
            ]
          },
          "metadata": {
            "tags": []
          },
          "execution_count": 9
        }
      ]
    },
    {
      "cell_type": "code",
      "metadata": {
        "id": "f5Gw0XgNNA_1",
        "colab_type": "code",
        "colab": {}
      },
      "source": [
        "# Tokenizer\n",
        "tokenizer = RegexpTokenizer('\\w+|\\$[\\d\\.]+|\\S+')"
      ],
      "execution_count": 10,
      "outputs": []
    },
    {
      "cell_type": "code",
      "metadata": {
        "id": "Oy_SQF20Z9UF",
        "colab_type": "code",
        "colab": {
          "base_uri": "https://localhost:8080/",
          "height": 255
        },
        "outputId": "d60a37df-8ffc-4203-c9e6-6e99e13f996b"
      },
      "source": [
        "dfcs54 =  dfcs54.apply(lambda x: tokenizer.tokenize(x.lower()))\n",
        "dfcs54"
      ],
      "execution_count": 11,
      "outputs": [
        {
          "output_type": "execute_result",
          "data": {
            "text/plain": [
              "469529    [the, main, road, west, is, the, a35, to, honiton, in, devon, which, runs, through, the, south, east, dorset, conurbation, and, continues, east, as, far, as, southampton, ,, albeit, as, a, non, -primary, route, .]                                                                      \n",
              "469530    [in, the, california, state, senate, ,, irvine, is, in, .]                                                                                                                                                                                                                                 \n",
              "469531    [in, the, california, state, legislature, ,, woodland, is, in, ,, and, .]                                                                                                                                                                                                                  \n",
              "469532    [in, the, california, state, legislature, ,, whittier, is, in, ,, and, in, .]                                                                                                                                                                                                              \n",
              "469533    [in, the, california, state, legislature, ,, sonoma, is, in, ,, and, in, .]                                                                                                                                                                                                                \n",
              "                                             ...                                                                                                                                                                                                                                                     \n",
              "492988    [he, was, elected, to, rajya, sabha, in, 1996, .]                                                                                                                                                                                                                                          \n",
              "492989    [the, expression, is, not, a, polynomial, because, it, includes, division, by, a, non, -constant, polynomial, .]                                                                                                                                                                           \n",
              "492990    [ithaca, is, in, the, rural, finger, lakes, region, about, northwest, of, new, york, city, ;, the, nearest, larger, cities, ,, binghamton, and, syracuse, ,, are, an, hour, 's, drive, away, by, car, ,, rochester, and, scranton, are, two, hours, ,, buffalo, and, albany, are, three, .]\n",
              "492991    [the, number, of, domino, tilings, of, a, 2, ×2, checkerboard, is, 2, .]                                                                                                                                                                                                                   \n",
              "492992    [apple, snails, include, species, that, are, the, biggest, living, freshwater, snails, on, earth, .]                                                                                                                                                                                       \n",
              "Name: Target Sentence, Length: 23464, dtype: object"
            ]
          },
          "metadata": {
            "tags": []
          },
          "execution_count": 11
        }
      ]
    },
    {
      "cell_type": "code",
      "metadata": {
        "id": "gsukr4yxa_TY",
        "colab_type": "code",
        "colab": {
          "base_uri": "https://localhost:8080/",
          "height": 235
        },
        "outputId": "ce574233-5da7-41d2-e80d-0cf0c311c8cb"
      },
      "source": [
        "dfss54=  dfss54.apply(lambda x: tokenizer.tokenize(x.lower()))\n",
        "dfss54"
      ],
      "execution_count": 12,
      "outputs": [
        {
          "output_type": "execute_result",
          "data": {
            "text/plain": [
              "469529    [it, is, the, biggest, town, in, dorset, .]                                             \n",
              "469530    [irvine, (, ), is, a, city, in, orange, county, ,, california, ,, united, states, .]    \n",
              "469531    [woodland, is, a, city, in, yolo, county, ,, california, ,, united, states, .]          \n",
              "469532    [whittier, is, a, city, in, los, angeles, county, ,, california, ,, usa, .]             \n",
              "469533    [sonoma, is, a, historic, city, in, sonoma, county, ,, california, ,, united, states, .]\n",
              "                                                    ...                                           \n",
              "492988    [he, was, a, member, of, the, bharatiya, janata, party, (, bjp, ), .]                   \n",
              "492989    [a, polynomial, is, an, easy, -to-use, algebraic, expression, .]                        \n",
              "492990    [ithaca, is, a, city, in, upstate, new, york, ,, america, .]                            \n",
              "492991    [it, is, the, number, after, 1, and, the, number, before, 3, .]                         \n",
              "492992    [they, are, one, of, the, only, species, of, snails, that, are, not, hermaphrodites, .] \n",
              "Name: Source Sentence, Length: 23464, dtype: object"
            ]
          },
          "metadata": {
            "tags": []
          },
          "execution_count": 12
        }
      ]
    },
    {
      "cell_type": "code",
      "metadata": {
        "id": "b4RG-VW5-Vf3",
        "colab_type": "code",
        "colab": {
          "base_uri": "https://localhost:8080/",
          "height": 254
        },
        "outputId": "c5837bd5-36ba-48e5-978e-c3b21849c4c3"
      },
      "source": [
        "from collections import Counter\n",
        "Counter(dfcs54[492992])"
      ],
      "execution_count": 13,
      "outputs": [
        {
          "output_type": "execute_result",
          "data": {
            "text/plain": [
              "Counter({'.': 1,\n",
              "         'apple': 1,\n",
              "         'are': 1,\n",
              "         'biggest': 1,\n",
              "         'earth': 1,\n",
              "         'freshwater': 1,\n",
              "         'include': 1,\n",
              "         'living': 1,\n",
              "         'on': 1,\n",
              "         'snails': 2,\n",
              "         'species': 1,\n",
              "         'that': 1,\n",
              "         'the': 1})"
            ]
          },
          "metadata": {
            "tags": []
          },
          "execution_count": 13
        }
      ]
    },
    {
      "cell_type": "code",
      "metadata": {
        "id": "gY4B_K0IbCYI",
        "colab_type": "code",
        "colab": {
          "base_uri": "https://localhost:8080/",
          "height": 235
        },
        "outputId": "34adb6e8-d01a-4e9a-df97-f11f655aff0c"
      },
      "source": [
        "from collections import Counter\n",
        "Counter(dfss54[492992])"
      ],
      "execution_count": 14,
      "outputs": [
        {
          "output_type": "execute_result",
          "data": {
            "text/plain": [
              "Counter({'.': 1,\n",
              "         'are': 2,\n",
              "         'hermaphrodites': 1,\n",
              "         'not': 1,\n",
              "         'of': 2,\n",
              "         'one': 1,\n",
              "         'only': 1,\n",
              "         'snails': 1,\n",
              "         'species': 1,\n",
              "         'that': 1,\n",
              "         'the': 1,\n",
              "         'they': 1})"
            ]
          },
          "metadata": {
            "tags": []
          },
          "execution_count": 14
        }
      ]
    },
    {
      "cell_type": "code",
      "metadata": {
        "id": "1K4bHKq0bXNa",
        "colab_type": "code",
        "colab": {}
      },
      "source": [
        "def intersect(list1, list2):\n",
        "    cnt1 = Counter()\n",
        "    cnt2 = Counter()\n",
        "    for tk1 in list1:\n",
        "        #print(\"cs\",list1)\n",
        "        cnt1[tk1] += 1\n",
        "    for tk2 in list2:\n",
        "        #print(\"ss\",list2)\n",
        "        cnt2[tk2] += 1\n",
        "        inter = cnt1 & cnt2\n",
        "    return (list(inter.elements()))"
      ],
      "execution_count": 15,
      "outputs": []
    },
    {
      "cell_type": "code",
      "metadata": {
        "id": "bqkhnnmQ8gz1",
        "colab_type": "code",
        "colab": {}
      },
      "source": [
        "xInt = intersect(dfcs54[492992],dfss54[492992])"
      ],
      "execution_count": 16,
      "outputs": []
    },
    {
      "cell_type": "code",
      "metadata": {
        "id": "y6144CD-8ovf",
        "colab_type": "code",
        "colab": {
          "base_uri": "https://localhost:8080/",
          "height": 35
        },
        "outputId": "29cf0eb6-6168-47ce-a3c7-ad4d6fe84344"
      },
      "source": [
        "xInt"
      ],
      "execution_count": 17,
      "outputs": [
        {
          "output_type": "execute_result",
          "data": {
            "text/plain": [
              "['snails', 'species', 'that', 'are', 'the', '.']"
            ]
          },
          "metadata": {
            "tags": []
          },
          "execution_count": 17
        }
      ]
    },
    {
      "cell_type": "code",
      "metadata": {
        "id": "89PPxxtWA0dQ",
        "colab_type": "code",
        "colab": {
          "base_uri": "https://localhost:8080/",
          "height": 254
        },
        "outputId": "d8f3a006-f5c2-422b-dca6-134d96595186"
      },
      "source": [
        "zSym = set(dfcs54[492992]).symmetric_difference(set(dfss54[492992]))\n",
        "zSym"
      ],
      "execution_count": 18,
      "outputs": [
        {
          "output_type": "execute_result",
          "data": {
            "text/plain": [
              "{'apple',\n",
              " 'biggest',\n",
              " 'earth',\n",
              " 'freshwater',\n",
              " 'hermaphrodites',\n",
              " 'include',\n",
              " 'living',\n",
              " 'not',\n",
              " 'of',\n",
              " 'on',\n",
              " 'one',\n",
              " 'only',\n",
              " 'they'}"
            ]
          },
          "metadata": {
            "tags": []
          },
          "execution_count": 18
        }
      ]
    },
    {
      "cell_type": "code",
      "metadata": {
        "id": "53t4E1FzBR6g",
        "colab_type": "code",
        "colab": {
          "base_uri": "https://localhost:8080/",
          "height": 254
        },
        "outputId": "1bf0c7eb-d7e3-4cf1-a181-bc6697f6b85f"
      },
      "source": [
        "set(dfcs54[492992])"
      ],
      "execution_count": null,
      "outputs": [
        {
          "output_type": "execute_result",
          "data": {
            "text/plain": [
              "{'.',\n",
              " 'apple',\n",
              " 'are',\n",
              " 'biggest',\n",
              " 'earth',\n",
              " 'freshwater',\n",
              " 'include',\n",
              " 'living',\n",
              " 'on',\n",
              " 'snails',\n",
              " 'species',\n",
              " 'that',\n",
              " 'the'}"
            ]
          },
          "metadata": {
            "tags": []
          },
          "execution_count": 188
        }
      ]
    },
    {
      "cell_type": "code",
      "metadata": {
        "id": "xwWmzIXlB2Az",
        "colab_type": "code",
        "colab": {
          "base_uri": "https://localhost:8080/",
          "height": 35
        },
        "outputId": "3a46913b-79e6-45d6-df8c-5470a3730c62"
      },
      "source": [
        "# Return difference between ss and cs\n",
        "# we will find out set of element in cs present and not present in ss\n",
        "zDiff = set(dfcs54[492992]).difference(set(dfss54[492992]))\n",
        "zDiff"
      ],
      "execution_count": 19,
      "outputs": [
        {
          "output_type": "execute_result",
          "data": {
            "text/plain": [
              "{'apple', 'biggest', 'earth', 'freshwater', 'include', 'living', 'on'}"
            ]
          },
          "metadata": {
            "tags": []
          },
          "execution_count": 19
        }
      ]
    },
    {
      "cell_type": "code",
      "metadata": {
        "id": "NML1yne0CUOF",
        "colab_type": "code",
        "colab": {
          "base_uri": "https://localhost:8080/",
          "height": 272
        },
        "outputId": "46bda8bf-8d22-4e33-b29f-d10d789202bb"
      },
      "source": [
        "dfss54[492992]"
      ],
      "execution_count": 20,
      "outputs": [
        {
          "output_type": "execute_result",
          "data": {
            "text/plain": [
              "['they',\n",
              " 'are',\n",
              " 'one',\n",
              " 'of',\n",
              " 'the',\n",
              " 'only',\n",
              " 'species',\n",
              " 'of',\n",
              " 'snails',\n",
              " 'that',\n",
              " 'are',\n",
              " 'not',\n",
              " 'hermaphrodites',\n",
              " '.']"
            ]
          },
          "metadata": {
            "tags": []
          },
          "execution_count": 20
        }
      ]
    },
    {
      "cell_type": "code",
      "metadata": {
        "id": "SmXU8P31Cbfl",
        "colab_type": "code",
        "colab": {
          "base_uri": "https://localhost:8080/",
          "height": 272
        },
        "outputId": "21387d42-1020-41f8-b00f-38898504b494"
      },
      "source": [
        "dfcs54[492992]"
      ],
      "execution_count": null,
      "outputs": [
        {
          "output_type": "execute_result",
          "data": {
            "text/plain": [
              "['apple',\n",
              " 'snails',\n",
              " 'include',\n",
              " 'species',\n",
              " 'that',\n",
              " 'are',\n",
              " 'the',\n",
              " 'biggest',\n",
              " 'living',\n",
              " 'freshwater',\n",
              " 'snails',\n",
              " 'on',\n",
              " 'earth',\n",
              " '.']"
            ]
          },
          "metadata": {
            "tags": []
          },
          "execution_count": 196
        }
      ]
    },
    {
      "cell_type": "code",
      "metadata": {
        "id": "neKqTYGyGoZl",
        "colab_type": "code",
        "colab": {
          "base_uri": "https://localhost:8080/",
          "height": 35
        },
        "outputId": "57902525-a884-40cb-c752-68caeefa347d"
      },
      "source": [
        "df['Source Sentence'][492992]"
      ],
      "execution_count": 23,
      "outputs": [
        {
          "output_type": "execute_result",
          "data": {
            "application/vnd.google.colaboratory.intrinsic": {
              "type": "string"
            },
            "text/plain": [
              "'They are one of the only species of snails that are not hermaphrodites .'"
            ]
          },
          "metadata": {
            "tags": []
          },
          "execution_count": 23
        }
      ]
    },
    {
      "cell_type": "code",
      "metadata": {
        "id": "IX6I3-noGtfU",
        "colab_type": "code",
        "colab": {
          "base_uri": "https://localhost:8080/",
          "height": 35
        },
        "outputId": "8a0e5cb9-b158-44bb-c1bb-e185613b5a90"
      },
      "source": [
        "df['Target Sentence'][492992]"
      ],
      "execution_count": 24,
      "outputs": [
        {
          "output_type": "execute_result",
          "data": {
            "application/vnd.google.colaboratory.intrinsic": {
              "type": "string"
            },
            "text/plain": [
              "'Apple snails include species that are the biggest living freshwater snails on Earth .'"
            ]
          },
          "metadata": {
            "tags": []
          },
          "execution_count": 24
        }
      ]
    }
  ]
}